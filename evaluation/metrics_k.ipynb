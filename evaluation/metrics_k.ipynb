{
 "cells": [
  {
   "cell_type": "code",
   "execution_count": 2,
   "metadata": {},
   "outputs": [],
   "source": [
    "import csv\n",
    "import ast"
   ]
  },
  {
   "cell_type": "code",
   "execution_count": 39,
   "metadata": {},
   "outputs": [
    {
     "name": "stdout",
     "output_type": "stream",
     "text": [
      "[0, 2, 2, [-8.72199535369873, -8.812382698059082, -1.3904452323913574, -7.842248916625977, -14.883234977722168, -14.708634376525879, -14.298813819885254, -8.64927864074707]]\n",
      "1148\n"
     ]
    }
   ],
   "source": [
    "record=[]\n",
    "count=0\n",
    "#with open(\"new test result/baselineBERT/cpu/baselinebert_cpu_epoch_5_test_res.csv\",newline='') as csvfile:\n",
    "with open(\"new data/MMPBERT/mixprompt_all_epoch_20_test_res.csv\",newline='') as csvfile:\n",
    "    read=csv.reader(csvfile)\n",
    "    for item in read:\n",
    "        if(count==0):\n",
    "            count+=1\n",
    "            continue\n",
    "        #tmp=item[:]\n",
    "        tmp=item[:1]+item[13:]\n",
    "        tmp[0]=int(tmp[0])\n",
    "        tmp[1]=int(tmp[1])\n",
    "        tmp[2]=int(tmp[2])\n",
    "        \n",
    "        #numpy version\n",
    "        \"\"\"tmp[3]=tmp[3][1:-1].split(' ')\n",
    "        #print(tmp[3])\n",
    "        n=len(tmp[3])\n",
    "        logit=[]\n",
    "        for i in range(n):\n",
    "            if(tmp[3][i]==''):\n",
    "                continue\n",
    "            logit.append(float(tmp[3][i]))\"\"\"\n",
    "        \n",
    "        #normal version\n",
    "        tmp[3]=ast.literal_eval(tmp[3])\n",
    "        \n",
    "        \"\"\"tmp[3]=logit\"\"\"\n",
    "        record.append(tmp)\n",
    "\n",
    "print(record[0])\n",
    "print(len(record))"
   ]
  },
  {
   "cell_type": "code",
   "execution_count": 40,
   "metadata": {},
   "outputs": [],
   "source": [
    "#--------------------------recall rate-------------------------------\n",
    "\n",
    "n=len(record)\n",
    "cls_num=len(record[0][3])#class number used to define range of k\n",
    "deno=[0 for i in range(cls_num)]#number of samples of each class\n",
    "nume=[[0 for j in range(cls_num)] for i in range(cls_num)]#external range is for each class, internal range is for @k\n",
    "#e.g. nume[i][j] is the numerator for calculating class i's @j recall rate\n",
    "\n",
    "for i in range(0,n):\n",
    "    label_i=record[i][1]\n",
    "    \n",
    "    #create a list containing tuples in form of (logit, index)\n",
    "    ind_len=len(record[i][3])\n",
    "    logit_index_list=zip(record[i][3], range(0,ind_len))\n",
    "    logit_index_list=list(logit_index_list)\n",
    "    logit_index_list=sorted(logit_index_list, key=lambda x : x[0], reverse=True)\n",
    "    #logit_index_list=logit_index_list.map(lambda x:x[1])\n",
    "    \n",
    "    #turn the list above to a index list\n",
    "    index_list=[]\n",
    "    for item in logit_index_list:\n",
    "        index_list.append(item[1])\n",
    "    #print(logit_index_list)\n",
    "    #print(index_list, record[i][1])\n",
    "    #break\n",
    "    \n",
    "    #record info for calculating the @k recall rate\n",
    "    deno[label_i]+=1\n",
    "    for j in range(cls_num):\n",
    "        #(j+1) is k\n",
    "        if(label_i in index_list[:j+1]):\n",
    "            nume[label_i][j]+=1\n",
    "\n",
    "recall_rate_k=[0 for i in range(cls_num)]\n",
    "#calculate the @k recall rate\n",
    "for i in range(cls_num):\n",
    "    #(i+1) is k\n",
    "    tmp=cls_num\n",
    "    for j in range(cls_num):\n",
    "        #j is class\n",
    "        if(deno[j]==0):\n",
    "            tmp-=1\n",
    "            continue\n",
    "        recall_rate_k[i]+=((nume[j][i]/deno[j])*(deno[j]/sum(deno)))\n",
    "        #recall_rate_k[i]+=(nume[j][i]/deno[j])\n",
    "    #recall_rate_k[i]/=tmp"
   ]
  },
  {
   "cell_type": "code",
   "execution_count": 41,
   "metadata": {},
   "outputs": [
    {
     "name": "stdout",
     "output_type": "stream",
     "text": [
      "[0.6027874564459931, 0.8318815331010453, 0.9207317073170732, 0.960801393728223, 0.9782229965156795, 0.9886759581881533, 0.9930313588850175, 1.0000000000000002]\n"
     ]
    }
   ],
   "source": [
    "print(recall_rate_k)"
   ]
  },
  {
   "cell_type": "code",
   "execution_count": 42,
   "metadata": {
    "scrolled": true
   },
   "outputs": [
    {
     "name": "stdout",
     "output_type": "stream",
     "text": [
      "0.6027874564459931\n",
      "0.8318815331010453\n",
      "0.9207317073170732\n",
      "0.960801393728223\n",
      "0.9782229965156795\n",
      "0.9886759581881533\n",
      "0.9930313588850175\n",
      "1.0000000000000002\n"
     ]
    }
   ],
   "source": [
    "#print(recall_rate_k)\n",
    "for item in recall_rate_k:\n",
    "    print(item)"
   ]
  },
  {
   "cell_type": "code",
   "execution_count": 43,
   "metadata": {},
   "outputs": [
    {
     "data": {
      "text/plain": [
       "'for i in range(cls_num):\\n    print(nume[i])\\n    print(deno[i])'"
      ]
     },
     "execution_count": 43,
     "metadata": {},
     "output_type": "execute_result"
    }
   ],
   "source": [
    "\"\"\"for i in range(cls_num):\n",
    "    print(nume[i])\n",
    "    print(deno[i])\"\"\""
   ]
  },
  {
   "cell_type": "code",
   "execution_count": 44,
   "metadata": {},
   "outputs": [],
   "source": [
    "#--------------------------precision rate-------------------------------\n",
    "\n",
    "n=len(record)\n",
    "cls_num=len(record[0][3])#class number used to define range of k\n",
    "deno=[0 for i in range(cls_num)]#number of samples of each class\n",
    "nume=[[0 for j in range(cls_num)] for i in range(cls_num)]#external range is for each class, internal range is for @k\n",
    "#e.g. nume[i][j] is the numerator for calculating class i's @j recall rate\n",
    "\n",
    "for i in range(0,n):\n",
    "    label_i=record[i][1]\n",
    "    \n",
    "    #create a list containing tuples in form of (logit, index)\n",
    "    ind_len=len(record[i][3])\n",
    "    logit_index_list=zip(record[i][3], range(0,ind_len))\n",
    "    logit_index_list=list(logit_index_list)\n",
    "    logit_index_list=sorted(logit_index_list, key=lambda x : x[0], reverse=True)\n",
    "    #logit_index_list=logit_index_list.map(lambda x:x[1])\n",
    "    \n",
    "    #turn the list above to a index list\n",
    "    index_list=[]\n",
    "    for item in logit_index_list:\n",
    "        index_list.append(item[1])\n",
    "    #print(logit_index_list)\n",
    "    #print(index_list, record[i][1])\n",
    "    #break\n",
    "    \n",
    "    #record info for calculating the @k recall rate\n",
    "    deno[label_i]+=1\n",
    "    for j in range(cls_num):\n",
    "        #(j+1) is k\n",
    "        if(label_i in index_list[:j+1]):\n",
    "            nume[label_i][j]+=1\n",
    "\n",
    "precision_rate_k=[0 for i in range(cls_num)]\n",
    "#calculate the @k recall rate\n",
    "for i in range(cls_num):\n",
    "    #(i+1) is k\n",
    "    tmp=cls_num\n",
    "    for j in range(cls_num):\n",
    "        #j is class\n",
    "        if(deno[j]==0):\n",
    "            tmp-=1\n",
    "            continue\n",
    "        precision_rate_k[i]+=((nume[j][i]/((i+1)*deno[j]))*(deno[j]/sum(deno)))"
   ]
  },
  {
   "cell_type": "code",
   "execution_count": 45,
   "metadata": {},
   "outputs": [
    {
     "name": "stdout",
     "output_type": "stream",
     "text": [
      "0.6027874564459931\n",
      "0.41594076655052264\n",
      "0.30691056910569103\n",
      "0.24020034843205576\n",
      "0.1956445993031359\n",
      "0.1647793263646922\n",
      "0.14186162269785962\n",
      "0.12500000000000003\n"
     ]
    }
   ],
   "source": [
    "#print(precision_rate_k)\n",
    "for item in precision_rate_k:\n",
    "    print(item)"
   ]
  },
  {
   "cell_type": "code",
   "execution_count": 46,
   "metadata": {},
   "outputs": [],
   "source": [
    "f1_score_k=[]\n",
    "for i in range(len(recall_rate_k)):\n",
    "    tmp=2*(recall_rate_k[i]*precision_rate_k[i])/(recall_rate_k[i]+precision_rate_k[i])\n",
    "    f1_score_k.append(tmp)"
   ]
  },
  {
   "cell_type": "code",
   "execution_count": 47,
   "metadata": {
    "scrolled": false
   },
   "outputs": [
    {
     "name": "stdout",
     "output_type": "stream",
     "text": [
      "0.6027874564459931\n",
      "0.5545876887340301\n",
      "0.46036585365853655\n",
      "0.38432055749128924\n",
      "0.3260743321718932\n",
      "0.2824788451966152\n",
      "0.2482578397212544\n",
      "0.22222222222222227\n"
     ]
    }
   ],
   "source": [
    "#print(f1_score_k)\n",
    "for item in f1_score_k:\n",
    "    print(item)"
   ]
  },
  {
   "cell_type": "code",
   "execution_count": 237,
   "metadata": {},
   "outputs": [
    {
     "data": {
      "text/plain": [
       "'x=2*(0.9626168224299065*0.3208722741433022)/(0.9626168224299065+0.3208722741433022)\\nprint(x)'"
      ]
     },
     "execution_count": 237,
     "metadata": {},
     "output_type": "execute_result"
    }
   ],
   "source": [
    "\"\"\"x=2*(0.9626168224299065*0.3208722741433022)/(0.9626168224299065+0.3208722741433022)\n",
    "print(x)\"\"\""
   ]
  },
  {
   "cell_type": "code",
   "execution_count": null,
   "metadata": {},
   "outputs": [],
   "source": []
  },
  {
   "cell_type": "code",
   "execution_count": null,
   "metadata": {},
   "outputs": [],
   "source": []
  }
 ],
 "metadata": {
  "kernelspec": {
   "display_name": "Python [conda env:root] *",
   "language": "python",
   "name": "conda-root-py"
  },
  "language_info": {
   "codemirror_mode": {
    "name": "ipython",
    "version": 3
   },
   "file_extension": ".py",
   "mimetype": "text/x-python",
   "name": "python",
   "nbconvert_exporter": "python",
   "pygments_lexer": "ipython3",
   "version": "3.8.5"
  }
 },
 "nbformat": 4,
 "nbformat_minor": 4
}
