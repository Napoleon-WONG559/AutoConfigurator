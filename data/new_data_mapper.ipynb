{
 "cells": [
  {
   "cell_type": "code",
   "execution_count": 4,
   "metadata": {},
   "outputs": [],
   "source": [
    "import pandas as pd"
   ]
  },
  {
   "cell_type": "code",
   "execution_count": 21,
   "metadata": {},
   "outputs": [],
   "source": [
    "graphic_label={\n",
    "    0:['NVIDIA GeForce RTX 3070', 'NVIDIA GeForce RTX 3070 Ti', 'NVIDIA GeForce RTX 3080', 'NVIDIA GeForce RTX 3050 Ti', 'NVIDIA GeForce RTX 3050', 'NVIDIA GeForce RTX 3060', 'NVIDIA GeForce RTX 2070 Max-Q', 'Apple M2', 'Apple M1'],\n",
    "    1:['NVIDIA GeForce GTX 1050', 'NVIDIA GeForce GTX 1050 Ti', 'GTX 1050 Ti', 'NVIDIA GeForce GTX 1060', 'NVIDIA GeForce GTX 1070', '4GB GDDR5 NVIDIA GeForce GTX 1050', 'GTX 1050', 'NVIDIA GeForce 940MX', 'NVIDIA GeForce GTX 1660Ti', 'NVIDIA GeForce MX130', 'NVIDIA GTX 1650Ti', 'NVIDIA GeForce MX550', 'NVIDIA GeForce GTX 1650', 'NVIDIA GeForce MX150', 'NVIDIA GeForce GTX 1660 Ti'],\n",
    "    2:['AMD Radeon R2', 'AMD Radeon R4', 'radeon r5', 'AMD Radeon R5 Graphics', 'AMD Radeon R7', 'AMD Radeon Vega 9', 'AMD Radeon R5', 'AMD Radeon Vega 10', 'AMD Radeon RX Vega 10', 'AMD Radeon Vega 8'],\n",
    "    3:['Intel UHD Graphics 620', 'Intel Iris Plus Graphics 640', 'Intel HD Graphics 3000', 'Intel', 'Intel HD 620 graphics', 'Intel HD Graphics 500', 'Intel HD Graphics 520', 'Intel HD Graphics 620', 'Intel HD Graphics 400', 'Intel Celeron', 'Intel HD Graphics 505', 'Intel HD Graphics 5500', 'Intel HD Graphics', 'Intel?? HD Graphics 620 (up to 2.07 GB)', 'intel 620', 'Intel HD Graphics 615', 'Intel UHD Graphics', 'Intel HD Graphics 500', 'Intel GMA 3150', 'Intel HD Graphics 620', 'Intel HD Graphics', 'Intel Arc A350M Graphics', 'Intel UHD Graphics 600', 'Intel HD Graphics 520', 'Intel HD Graphics 400', 'Intel HD Graphics 4400', 'Intel Iris Xe Graphics'],\n",
    "    4:['Integrated', 'integrated intel hd graphics', 'integrated AMD Radeon R5 Graphics', 'Integrated Graphics', 'Integrated intel hd graphics', 'Integrated HD Graphics', 'Integrated AMD Radeon RX Vega 10 Graphics', 'Integrated Mediatek Graphics', 'Intel Integrated Graphics'],\n",
    "    5:[515, 4, 'FirePro W4190M', 'NONE', 'PC', 'na', 'AMD', '2.4 GHz Intel Core i3'],\n",
    "}\n",
    "screen_label={\n",
    "    0:['19.5 inches'],\n",
    "    1:['17.3 inches', '17.3 Inches'],\n",
    "    2:['15.6 inches', '15 Inches', '15.6 Inches', '16 Inches'],\n",
    "    3:['14 inches', '14 Inches'],\n",
    "    4:['13.5 inches', '13.3 inches', '13.4 Inches', '13.3 Inches', '13.6 Inches'],\n",
    "    5:['12.5 inches', '12.3 inches', '12.5 Inches', '12.2 Inches'],\n",
    "    6:['11.6 inches', '11.4 Inches', '11.6 Inches'],\n",
    "    7:['10.1 inches'],\n",
    "}\n",
    "cpu_label={\n",
    "    0:['5 GHz corei7_10750h', '5 GHz core_i7_family', '5 GHz core_i9_12900h', '8550 GHz core_i7_8550u', 'Apple M2'],\n",
    "    1:['4 GHz Intel Core i7', '4.7 GHz ryzen_7', '4.2 GHz apple_ci5', '4.1 GHz core_i7_8750h', '4.7 GHz apple_ci7', '4.5 core_i5', '4.7 GHz amd_ryzen_7', '4.7 GHz core_i7', '4.1 GHz core_i3', '4.4 GHz amd_ryzen_7_5800h', '4.6 GHz core_i7_11800h', '4.4 GHz core_i5', '4 GHz ryzen_7_3700u', '4.5 GHz core_i7_family', '4.5 GHz intel_core_i5_1135g7', '4.1 GHz core_i7', '4.6 GHz Intel_Mobile_CPU', '4 GHz core_i7', '4.2 GHz intel_core_i5_1135g7', '4.6 GHz core_i7_family', '4.6 GHz ryzen_9', '4.7 GHz Intel_Core_i7_Extreme', '4.4 GHz ryzen_7', '4.4 GHz ryzen_7_5800h', '4.7 GHz core_i7_family', 'Intel Core i7-1260P', 'Intel Core i7-8550U'],\n",
    "    2:['3.8 GHz Intel Core i7', '3.8 GHz Core i7 Family', '3.5 GHz Intel Core i7', '3 GHz 8032', '3.5 GHz 8032', '3 GHz AMD A Series', '3.1 GHz Intel Core i5', '3.4 GHz Intel Core i5', '3.6 GHz AMD A Series', '3.5 GHz Intel Core i5', '3 GHz', '3.9 GHz core_i7', '3.4 GHz core_i3_1005g1', '3.7 GHz intel_core_i5_1135g7', '3.5 GHz core_i7', '3.8 GHz amd_ryzen_7', '3.4 GHz core_i5', '3.4 apple_ci7', '3.6 GHz ryzen_5_2500u', '3.2 ryzen_7', 'AMD A9-9420', 'Apple M1', 'Intel i5-7200U (2.5GHz)'],\n",
    "    3:['2.8 GHz Intel Core i7', '2.7 GHz Core i7 7500U', '2.7 GHz Core i7 2.7 GHz', '2.7 GHz Intel Core i7', '2.1 GHz Intel Core i7', '2.2 GHz Intel Core i5', '2.3 GHz Intel Core i5', '2.6 GHz Intel Core i5', '2.5 GHz Intel Core i5', '2.5 GHz Core i5 7200U', 'Intel Core i5', '2 GHz None', '2 GHz AMD A Series', '2.7 GHz Intel Core i3', '2.5 GHz Pentium', '2.5 GHz AMD A Series', '2.16 GHz Intel Celeron', '2.16 GHz Athlon 2650e', '2.7 GHz 8032', '2.48 GHz Intel Celeron', '2.4 GHz AMD A Series', '2 GHz Celeron D Processor 360', '2.4 GHz Intel Core i3', '2.3 GHz Intel Core i3', '2.4 GHz Core i3-540', '2.5 GHz Intel Core Duo', '2.2 GHz Intel Core i3', '2.7 GHz AMD A Series', '2.8 GHz 8032', '2.5 GHz Athlon 2650e', '2.9 GHz Intel Celeron', '2 GB', 'Celeron N3060', '2.1 GHz mediatek_mt8127', '2.4 GHz apple_ci5', '2.5 GHz core_i5_family', '2.5 GHz core_i5', '2.2 GHz amd_ryzen_5_pro_1600', '2.48 GHz intel_core_2_duo', '2.9 GHz Core_i7_3520M', '2.5 GHz core_i5_1035g1', '2.3 GHz core_i5', '2.8 GHz celeron', '2.3 GHz ryzen_7', '2.5 GHz amd_a_series', '2.16 GHz celeron_n3350', '2.2 GHz core_i7', '2.8 GHz core_i7', '2.9 GHz core_i5_4300u', '2.3 GHz AMD Ryzen 7 3700U', '2.4 GHz 1_2GHz_Cortex_A8', '2.5 GHz apple_ci5', '2.4 GHz celeron', '2.7 GHz core_i7', '2.8 GHz intel_core_i7_1165g7', '2.2 GHz 8032', '2 GHz core_i5', '2.8 GHz Intel Core i7-7700HQ', '2 GHz AMD Ryzen 5 2500U', '2.6 GHz corei7_10750h', 'Intel Core i7-7500U 2.7 GHz', 'Intel Celeron N3350', 'Intel Quad Core i7-7700HQ', 'intel_core_i7_1165g7'],\n",
    "    4:['1.5 GHz', '1.8 GHz 8032', '1.8 GHz AMD E Series', '1.7 GHz', '1.1 GHz Intel Celeron', '1.6 GHz Intel Celeron', '1.6 GHz Intel Core 2 Duo', '1.7 GHz Exynos 5000 Series', '1.6 GHz Celeron N3060', '1.6 GHz AMD E Series', '1.1 GHz Pentium', '1.6 GHz', '1.6 GHz Intel Mobile CPU', '1.6 GHz Celeron N3050', '1.8 GHz Intel Core i7', '1.6 GHz Intel Core i5', 8032, '1.6 GHz core_i5_family', '1.7 GHz 1_2GHz_Cortex_A8', '1.5 GHz intel_core_2_duo', '1.6 GHz core_i5', '1.83 GHz celeron', '1.6 GHz celeron', '1.8 GHz core_i7_8550u', '1.6 GHz celeron_n', '1.1 GHz 8032', '1.1 GHz intel_core_2_duo', '1.8 GHz intel_core_2_quad', '1.6 GHz Intel_Mobile_CPU', '1.1 GHz celeron', '1.6 GHz 8032', '1.8 GHz core_i7', '1.6 GHz celeron_n3060', '1.6 GHz Intel Core i5-8250U', '1 GHz core_m', '1.7 GHz core_i7', '1.6 GHz core_i5_8250u', '1.9 GHz core_i7', '1.8 GHz Intel Core i5-8250U', '1.7 GHz core_i5', '1.1 GHz celeron_n', 'Intel Core i5-8250U Quad Core', 'Intel Core i7-8550U 1.8GHz'],\n",
    "}\n",
    "ram_label={\n",
    "    0:['20 GB DDR4', '24 GB DDR4', '32 GB DDR4', '32 GB SO-DIMM DDR4', '64 GB DDR4'],\n",
    "    1:['16 GB DDR4', '16 GB LPDDR3_SDRAM', '16 GB SDRAM', '16 GB DDR SDRAM', '16 GB DDR3L SDRAM', '16 GB DDR5', '16 GB LPDDR5', '16 GB DDR3', '16 GB LPDDR4', '16 GB LPDDR4X', '16 GB DDR4', '16 GB LPDDR3', '16 GB Lpddr 5'],\n",
    "    2:['12 GB', '12 GB DDR3', '12 GB DDR SDRAM', '12 GB DDR4'],\n",
    "    3:['8 GB SDRAM DDR3', '8 GB DDR3 SDRAM', '8 GB DDR4 2666MHz', '8 GB DDR4', '8 GB LPDDR3', '8 GB DDR4 SDRAM', '8 GB DDR4_SDRAM', '8 GB 2-in1 Media Card Reader, USB 3.1, Type-C', '8 GB DDR SDRAM', '8 GB SDRAM DDR4', '8 GB ddr4', '8 GB sdram', '8 GB SDRAM', '8 GB', '8GB', '8 GB DDR3', '8 GB DDR4', '8 GB LPDDR4', '8 GB A8', '8 GB LPDDR3', '8 GB DDR', '8 GB DDR3 SDRAM', '8GB DDR3L', '8 GB DIMM DDR4-2400', '8 GB SDRAM'],\n",
    "    4:['6 GB SDRAM', '6 GB', '6 GB SDRAM DDR4', '6 GB DDR SDRAM', '4 GB LPDDR3_SDRAM', '4 GB SDRAM DDR4', '4 GB ddr3_sdram', '4 GB DDR3', '4 GB SDRAM', '4 GB', '4 GB SDRAM DDR3', '4 GB DDR4', '4 GB DDR3 SDRAM', '4 GB DDR SDRAM', '4 GB DDR3L', '4GB DDR4 SDRAM', '4 GB LPDDR3', '4 GB DDR3', '4 GB SDRAM', '4 GB A8', '4 GB SDRAM DDR', '4 GB DDR4', '2 GB SDRAM DDR3', '2 GB SDRAM', '2 GB DDR3L SDRAM', '2 GB DDR3 SDRAM', '2 GB DDR3', '2 GB DDR4', 'flash_memory_solid_state'],\n",
    "}\n",
    "hardisk_label={\n",
    "    0:['2 TB HDD 5400 rpm', '2 TB HDD'],\n",
    "    1:['1 TB', '1 TB HDD 7200 rpm', '1000 GB Mechanical Hard Drive', '1000 GB Hybrid Drive', '1 TB HDD 5400 rpm', '1024 GB Mechanical Hard Drive', '1 TB serial_ata', '1 TB mechanical_hard_drive', '1128 GB Hybrid', '1000 GB Hybrid Drive', '1 TB HDD', '1000 GB HDD', '1 TB SSD'],\n",
    "    2:['500 GB HDD 5400 rpm', '500 GB mechanical_hard_drive', 'Solid State Drive, 512 GB', '512 GB SSD', '500 GB HDD', '512GB SSD', '512 GB PCIe NVMe SSD', '512 GB SSD'],\n",
    "    3:['256 GB Flash Memory Solid State', '256 GB', '256.00 SSD', '256 GB SSD', '320 GB HDD 5400 rpm', '240 GB SSD', '256 GB SSD'],\n",
    "    4:['128 GB Flash Memory Solid State', '128 GB SSD', '128 GB SSD'],\n",
    "    5:['Intel', '16 GB SSD', '32 GB Flash Memory Solid State', '64 GB Flash Memory Solid State', '1 MB HDD 5400 rpm', '32 GB SSD', '64 GB SSD', '32 GB', '32 GB emmc', '16 GB flash_memory_solid_state', 'emmc', 'Flash Memory Solid State', '16 GB SSD', '32 GB Emmc', '32 GB SSD', '32 GB Embedded MultiMediaCard', '32 GB eMMC', '16 GB Emmc', '64 GB SSD'],\n",
    "}"
   ]
  },
  {
   "cell_type": "code",
   "execution_count": 39,
   "metadata": {},
   "outputs": [
    {
     "name": "stdout",
     "output_type": "stream",
     "text": [
      "Index(['review', 'screen', 'cpu', 'ram', 'hardisk', 'graphicard'], dtype='object')\n",
      "(17084, 6)\n",
      "Index(['review', 'screen', 'cpu', 'ram', 'hardisk', 'graphicard'], dtype='object')\n",
      "(7227, 6)\n",
      "(24311, 6)\n"
     ]
    }
   ],
   "source": [
    "review_file=pd.read_excel('unmapped_data/output_new_review.xlsx', index_col=0, header=0)\n",
    "review_file1=pd.read_excel('unmapped_data/output_old_review.xlsx', index_col=0, header=0)\n",
    "#review_file=pd.read_excel('unmapped_data/output_new_need.xlsx', index_col=0, header=0)\n",
    "#review_file1=pd.read_excel('unmapped_data/output_old_need.xlsx', index_col=0, header=0)\n",
    "print(review_file.keys())\n",
    "print(review_file.shape)\n",
    "print(review_file1.keys())\n",
    "print(review_file1.shape)\n",
    "review_file=pd.concat([review_file, review_file1], axis=0)\n",
    "print(review_file.shape)"
   ]
  },
  {
   "cell_type": "code",
   "execution_count": 16,
   "metadata": {},
   "outputs": [
    {
     "name": "stdout",
     "output_type": "stream",
     "text": [
      "nan\n"
     ]
    }
   ],
   "source": []
  },
  {
   "cell_type": "code",
   "execution_count": 40,
   "metadata": {},
   "outputs": [],
   "source": [
    "import csv\n",
    "import string\n",
    "\n",
    "def remove_non_ascii(a_str):\n",
    "    ascii_chars = set(string.printable)\n",
    "\n",
    "    return ''.join(\n",
    "        filter(lambda x: x in ascii_chars, a_str)\n",
    "    )\n",
    "\n",
    "review_graphic_label=[]\n",
    "indexes=[i for i in range(review_file.shape[0])]\n",
    "remain=[]\n",
    "for ind in indexes:\n",
    "    rev=remove_non_ascii(review_file.iat[ind,0])\n",
    "    \n",
    "    gra=review_file.iat[ind,5]\n",
    "    gra_label=-1\n",
    "    for key,val in graphic_label.items():\n",
    "        if(gra in val):\n",
    "            gra_label=key\n",
    "    if(gra_label==-1):\n",
    "        remain.append([ind,rev,gra])\n",
    "    tmp={'index':ind,'review':rev,'graphicard_label':gra_label}\n",
    "    #tmp={'index':ind,'need':rev,'graphicard_label':gra_label}\n",
    "    \n",
    "    scre=review_file.iat[ind,1]\n",
    "    scre_label=-1\n",
    "    for key,val in screen_label.items():\n",
    "        if(scre in val):\n",
    "            scre_label=key\n",
    "    if(scre_label==-1):\n",
    "        remain.append([ind,rev,scre])\n",
    "    tmp={'index':ind,'review':rev,'screen_label':scre_label}\n",
    "    #tmp={'index':ind,'need':rev,'screen_label':scre_label}\n",
    "    \n",
    "    cpu=review_file.iat[ind,2]\n",
    "    c_label=-1\n",
    "    for key,val in cpu_label.items():\n",
    "        if(cpu in val):\n",
    "            c_label=key\n",
    "    if(c_label==-1):\n",
    "        remain.append([ind,rev,cpu])\n",
    "    #if(c_label==0):\n",
    "    #    print(ind,'--->',rev)\n",
    "    tmp={'index':ind,'review':rev,'cpu_label':c_label}\n",
    "    #tmp={'index':ind,'need':rev,'cpu_label':c_label}\n",
    "    \n",
    "    ram=review_file.iat[ind,3]\n",
    "    r_label=-1\n",
    "    for key,val in ram_label.items():\n",
    "        if(ram in val):\n",
    "            r_label=key\n",
    "    if(r_label==-1):\n",
    "        remain.append([ind,rev,ram])\n",
    "    #if(r_label==6):\n",
    "     #   print(ind,'--->',rev)\n",
    "    tmp={'index':ind,'review':rev,'ram_label':r_label}\n",
    "    #tmp={'index':ind,'need':rev,'ram_label':r_label}\n",
    "    \n",
    "    hard=review_file.iat[ind,4]\n",
    "    hard_label=-1\n",
    "    for key,val in hardisk_label.items():\n",
    "        if(hard in val):\n",
    "            hard_label=key\n",
    "    if(hard_label==-1):\n",
    "        remain.append([ind,rev,hard])\n",
    "    tmp={'index':ind,'review':rev,'hardisk_label':hard_label}\n",
    "    #tmp={'index':ind,'need':rev,'hardisk_label':hard_label}\n",
    "    \n",
    "    tmp={'index':ind, 'review':rev, 'cpu':c_label, 'graphicard':gra_label, 'hardisk':hard_label, 'ram':r_label, 'screen':scre_label}\n",
    "    #tmp={'index':ind, 'need':rev, 'cpu':c_label, 'graphicard':gra_label, 'hardisk':hard_label, 'ram':r_label, 'screen':scre_label}\n",
    "    \n",
    "    review_graphic_label.append(tmp)\n",
    "#with open('review_graphic_label_map.csv', 'w', newline='') as csvfile:\n",
    "#    fieldnames = ['index', 'review','graphicard_label']\n",
    "\n",
    "with open('new_review_all_map.csv', 'w', newline='') as csvfile:\n",
    "#with open('new_need_all_map.csv', 'w', newline='') as csvfile:\n",
    "    fieldnames = ['index', 'review', 'cpu', 'graphicard', \"hardisk\", 'ram', 'screen']\n",
    "    #fieldnames = ['index', 'need', 'cpu', 'graphicard', \"hardisk\", 'ram', 'screen']\n",
    "    writer = csv.DictWriter(csvfile, fieldnames=fieldnames)\n",
    "\n",
    "    writer.writeheader()\n",
    "    writer.writerows(review_graphic_label)"
   ]
  },
  {
   "cell_type": "code",
   "execution_count": 41,
   "metadata": {},
   "outputs": [
    {
     "name": "stdout",
     "output_type": "stream",
     "text": [
      "[]\n"
     ]
    }
   ],
   "source": [
    "print(remain)"
   ]
  },
  {
   "cell_type": "code",
   "execution_count": 30,
   "metadata": {},
   "outputs": [
    {
     "data": {
      "text/plain": [
       "24311"
      ]
     },
     "execution_count": 30,
     "metadata": {},
     "output_type": "execute_result"
    }
   ],
   "source": [
    "review_file.shape[0]"
   ]
  },
  {
   "cell_type": "code",
   "execution_count": null,
   "metadata": {},
   "outputs": [],
   "source": []
  }
 ],
 "metadata": {
  "kernelspec": {
   "display_name": "Python [conda env:root] *",
   "language": "python",
   "name": "conda-root-py"
  },
  "language_info": {
   "codemirror_mode": {
    "name": "ipython",
    "version": 3
   },
   "file_extension": ".py",
   "mimetype": "text/x-python",
   "name": "python",
   "nbconvert_exporter": "python",
   "pygments_lexer": "ipython3",
   "version": "3.8.5"
  }
 },
 "nbformat": 4,
 "nbformat_minor": 4
}
