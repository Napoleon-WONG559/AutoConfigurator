{
 "cells": [
  {
   "cell_type": "code",
   "execution_count": 1,
   "metadata": {},
   "outputs": [],
   "source": [
    "import pandas as pd"
   ]
  },
  {
   "cell_type": "code",
   "execution_count": 2,
   "metadata": {},
   "outputs": [
    {
     "name": "stdout",
     "output_type": "stream",
     "text": [
      "Asin\n",
      "Screen size                                                  ‎15.6 Inches\n",
      "screen resolution                                            ‎1920 x 1080\n",
      "cpu - processor                                          ‎4.7 GHz core_i7\n",
      "ram                                                           ‎16 GB DDR4\n",
      "harddisk                                                       512 GB SSD\n",
      "graphic processor                                ‎NVIDIA GeForce RTX 3060\n",
      "first date available                                  2022-05-18 00:00:00\n",
      "link                    https://www.amazon.com/Acer-AN515-58-725A-i7-1...\n",
      "Name: B09TWYSVPM, dtype: object\n",
      "\n",
      "‎15.6 Inches\n",
      "‎1920 x 1080\n"
     ]
    }
   ],
   "source": [
    "label_file=pd.read_excel('new data/specifications.xlsx', index_col=0, header=1)\n",
    "print(label_file['B09TWYSVPM'])\n",
    "print()\n",
    "print(label_file['B09TWYSVPM'][0])\n",
    "print(label_file['B09TWYSVPM'][1])\n",
    "\n",
    "label_file1=pd.read_excel('new data/specifications.xlsx', sheet_name=1, index_col=0, header=1)"
   ]
  },
  {
   "cell_type": "code",
   "execution_count": 3,
   "metadata": {},
   "outputs": [],
   "source": [
    "all_label_file=pd.concat([label_file, label_file1], axis=1)"
   ]
  },
  {
   "cell_type": "code",
   "execution_count": 4,
   "metadata": {},
   "outputs": [
    {
     "name": "stdout",
     "output_type": "stream",
     "text": [
      "(8, 50)\n",
      "(8, 100)\n",
      "(8, 150)\n"
     ]
    }
   ],
   "source": [
    "print(label_file.shape)\n",
    "print(label_file1.shape)\n",
    "print(all_label_file.shape)"
   ]
  },
  {
   "cell_type": "code",
   "execution_count": 5,
   "metadata": {},
   "outputs": [
    {
     "name": "stdout",
     "output_type": "stream",
     "text": [
      "{'13.4 Inches', '17.3 Inches', '11.4 Inches', '13.3 Inches', '15 Inches', '16 Inches', '11.6 Inches', '12.5 Inches', '13.6 Inches', '12.2 Inches', '14 Inches', '15.6 Inches'}\n",
      "----------------------------------------\n",
      "screen type:  12\n",
      "----------------------------------------\n",
      "{'4.7 GHz ryzen_7', '1.6 GHz core_i5_family', '3.9 GHz core_i7', '4.2 GHz apple_ci5', '4.1 GHz core_i7_8750h', '1.7 GHz 1_2GHz_Cortex_A8', '2.1 GHz mediatek_mt8127', '2.4 GHz apple_ci5', '4.7 GHz apple_ci7', '2.5 GHz core_i5_family', '1.5 GHz intel_core_2_duo', '1.6 GHz core_i5', '2.5 GHz core_i5', '3.4 GHz core_i3_1005g1', '4.5 core_i5', '3.7 GHz intel_core_i5_1135g7', '4.7 GHz amd_ryzen_7', '2.2 GHz amd_ryzen_5_pro_1600', '5 GHz corei7_10750h', '2.48 GHz intel_core_2_duo', '1.83 GHz celeron', '2.9 GHz Core_i7_3520M', '1.6 GHz celeron', '1.8 GHz core_i7_8550u', '4.7 GHz core_i7', '2.5 GHz core_i5_1035g1', '2.3 GHz core_i5', '1.6 GHz celeron_n', '2.8 GHz celeron', '1.1 GHz 8032', 'AMD A9-9420', '2.3 GHz ryzen_7', '1.1 GHz intel_core_2_duo', '2.5 GHz amd_a_series', 'Intel Core i7-7500U 2.7 GHz', '3.5 GHz core_i7', '1.8 GHz intel_core_2_quad', '1.6 GHz Intel_Mobile_CPU', '4.1 GHz core_i3', '3.8 GHz amd_ryzen_7', '1.1 GHz celeron', '8550 GHz core_i7_8550u', '2.16 GHz celeron_n3350', '2.2 GHz core_i7', 'Apple M1', '2.8 GHz core_i7', '3.4 GHz core_i5', '2.9 GHz core_i5_4300u', 'Intel Celeron N3350', '2.3 GHz AMD Ryzen 7 3700U', '1.6 GHz 8032', '4.4 GHz amd_ryzen_7_5800h', '4.6 GHz core_i7_11800h', 'Intel Core i7-1260P', '4.4 GHz core_i5', '2.4 GHz 1_2GHz_Cortex_A8', '1.8 GHz core_i7', '2.5 GHz apple_ci5', '4 GHz ryzen_7_3700u', '4.5 GHz core_i7_family', '4.5 GHz intel_core_i5_1135g7', '4.1 GHz core_i7', '1.6 GHz celeron_n3060', 'Intel i5-7200U (2.5GHz)', 'Intel Quad Core i7-7700HQ', '4.6 GHz Intel_Mobile_CPU', '4 GHz core_i7', '4.2 GHz intel_core_i5_1135g7', '2.4 GHz celeron', '2.7 GHz core_i7', '4.6 GHz core_i7_family', '1.6 GHz Intel Core i5-8250U', 'Intel Core i7-8550U', '4.6 GHz ryzen_9', '1 GHz core_m', '3.4 apple_ci7', '2.8 GHz intel_core_i7_1165g7', '2.2 GHz 8032', '1.7 GHz core_i7', '1.6 GHz core_i5_8250u', '4.7 GHz Intel_Core_i7_Extreme', '1.9 GHz core_i7', 'Intel Core i5-8250U Quad Core', '3.6 GHz ryzen_5_2500u', 'Apple M2', '4.4 GHz ryzen_7', '3.2 ryzen_7', '1.8 GHz Intel Core i5-8250U', '1.7 GHz core_i5', '5 GHz core_i7_family', '2 GHz core_i5', 'Intel Core i7-8550U 1.8GHz', '4.4 GHz ryzen_7_5800h', '2.8 GHz Intel Core i7-7700HQ', '1.1 GHz celeron_n', 'intel_core_i7_1165g7', '2 GHz AMD Ryzen 5 2500U', '2.6 GHz corei7_10750h', '5 GHz core_i9_12900h', '4.7 GHz core_i7_family'}\n",
      "----------------------------------------\n",
      "cpu type:  100\n",
      "----------------------------------------\n",
      "{'4 GB DDR3L', '8GB', '16 GB DDR3L SDRAM', '8 GB DDR3', '16 GB DDR5', '12 GB DDR4', '8 GB DDR4', '8 GB LPDDR4', '16 GB LPDDR5', '24 GB DDR4', '8 GB A8', '16 GB DDR3', '16 GB LPDDR4', '16 GB LPDDR4X', '8 GB LPDDR3', '64 GB DDR4', '8 GB DDR', '2 GB DDR3', '4GB DDR4 SDRAM', '4 GB LPDDR3', '16 GB DDR4', '4 GB DDR3', '8 GB DDR3 SDRAM', '2 GB DDR4', '4 GB SDRAM', '4 GB A8', '16 GB LPDDR3', '8GB DDR3L', '20 GB DDR4', '32 GB DDR4', '4 GB SDRAM DDR', '8 GB DIMM DDR4-2400', '4 GB DDR4', '16 GB Lpddr 5', '8 GB SDRAM', '32 GB SO-DIMM DDR4'}\n",
      "----------------------------------------\n",
      "ram type:  36\n",
      "----------------------------------------\n",
      "{'2 TB HDD', '512GB SSD', '16 GB SSD', '500 GB HDD', '512 GB PCIe NVMe SSD', '128 GB SSD', '256 GB SSD', '1000 GB Hybrid Drive', '32 GB Emmc', '32 GB SSD', '32 GB Embedded MultiMediaCard', '1 TB HDD', '1000 GB HDD', '32 GB eMMC', '16 GB Emmc', '1 TB SSD', '240 GB SSD', '512 GB SSD', '64 GB SSD'}\n",
      "----------------------------------------\n",
      "hardisk type:  19\n",
      "----------------------------------------\n",
      "{'Intel HD Graphics 615', '2.4 GHz Intel Core i3', 'NVIDIA GeForce RTX 3070', 'NVIDIA GeForce GTX 1660Ti', 'NVIDIA GeForce GTX 1050', 'NVIDIA GeForce RTX 3070 Ti', 'Integrated HD Graphics', 'AMD Radeon R4', 'NVIDIA GeForce MX130', 'Intel UHD Graphics', 'NVIDIA GeForce RTX 3080', 'NVIDIA GTX 1650Ti', 'Integrated AMD Radeon RX Vega 10 Graphics', 'NVIDIA GeForce RTX 3050 Ti', 'Apple M2', 'Intel HD Graphics 500', 'Intel GMA 3150', 'Apple M1', 'AMD Radeon Vega 9', 'NVIDIA GeForce 940MX', 'AMD Radeon R5', 'NVIDIA GeForce GTX 1060', 'NVIDIA GeForce RTX 3050', 'NVIDIA GeForce MX550', 'Intel HD Graphics 620', 'Integrated Mediatek Graphics', 'AMD Radeon Vega 10', 'Intel Integrated Graphics', 'NVIDIA GeForce GTX 1650', 'Intel HD Graphics', 'NVIDIA GeForce MX150', 'Intel Arc A350M Graphics', 'AMD Radeon RX Vega 10', 'AMD Radeon Vega 8', 'Intel UHD Graphics 600', 'Intel HD Graphics 520', 'Intel HD Graphics 400', 'Intel UHD Graphics 620', 'NVIDIA GeForce GTX 1070', 'NVIDIA GeForce GTX 1660 Ti', 'Intel HD Graphics 4400', 'NVIDIA GeForce GTX 1050 Ti', 'NVIDIA GeForce RTX 3060', 'Intel Iris Xe Graphics', 'NVIDIA GeForce RTX 2070 Max-Q'}\n",
      "----------------------------------------\n",
      "graphicard type:  45\n",
      "----------------------------------------\n"
     ]
    }
   ],
   "source": [
    "label_file=all_label_file\n",
    "\n",
    "def remove_unprint(s):\n",
    "    return ''.join(x for x in s if x.isprintable())\n",
    "\n",
    "\n",
    "screen=[]\n",
    "cpu=[]\n",
    "ram=[]\n",
    "hardisk=[]\n",
    "graphicard=[]\n",
    "for i in label_file.keys():\n",
    "    screen.append(remove_unprint(label_file[i][0]))\n",
    "    cpu.append(remove_unprint(label_file[i][2]))\n",
    "    ram.append(remove_unprint(label_file[i][3]))\n",
    "    hardisk.append(remove_unprint(label_file[i][4]))\n",
    "    graphicard.append(remove_unprint(label_file[i][5]))\n",
    "screen=set(screen)\n",
    "cpu=set(cpu)\n",
    "ram=set(ram)\n",
    "hardisk=set(hardisk)\n",
    "graphicard=set(graphicard)\n",
    "print(screen)\n",
    "print(\"----------------------------------------\")\n",
    "print(\"screen type: \",len(screen))\n",
    "print(\"----------------------------------------\")\n",
    "print(cpu)\n",
    "print(\"----------------------------------------\")\n",
    "print(\"cpu type: \",len(cpu))\n",
    "print(\"----------------------------------------\")\n",
    "print(ram)\n",
    "print(\"----------------------------------------\")\n",
    "print(\"ram type: \",len(ram))\n",
    "print(\"----------------------------------------\")\n",
    "print(hardisk)\n",
    "print(\"----------------------------------------\")\n",
    "print(\"hardisk type: \",len(hardisk))\n",
    "print(\"----------------------------------------\")\n",
    "print(graphicard)\n",
    "print(\"----------------------------------------\")\n",
    "print(\"graphicard type: \",len(graphicard))\n",
    "print(\"----------------------------------------\")"
   ]
  },
  {
   "cell_type": "code",
   "execution_count": 23,
   "metadata": {},
   "outputs": [],
   "source": [
    "review_file=pd.read_excel('new data/reviews 2020-23.xlsx', index_col=0, header=3, keep_default_na=False)"
   ]
  },
  {
   "cell_type": "code",
   "execution_count": 27,
   "metadata": {},
   "outputs": [],
   "source": [
    "all_info=[]\n",
    "for sheet_num in range(2):\n",
    "    review_file=pd.read_excel('new data/reviews 2020-23.xlsx', sheet_name=sheet_num, index_col=0, header=3, keep_default_na=False)\n",
    "    for i in review_file.keys():\n",
    "        for rvw in review_file[i]:\n",
    "            if(rvw==''):\n",
    "                break\n",
    "            tmp=[]\n",
    "            tmp.append(rvw)\n",
    "            tmp.append(remove_unprint(label_file[i][0]))\n",
    "            tmp.append(remove_unprint(label_file[i][2]))\n",
    "            tmp.append(remove_unprint(label_file[i][3]))\n",
    "            tmp.append(remove_unprint(label_file[i][4]))\n",
    "            tmp.append(remove_unprint(label_file[i][5]))\n",
    "            all_info.append(tmp)"
   ]
  },
  {
   "cell_type": "code",
   "execution_count": 28,
   "metadata": {},
   "outputs": [],
   "source": [
    "df1 = pd.DataFrame(all_info,\n",
    "                   columns=['review', 'screen','cpu','ram','hardisk','graphicard'])\n",
    "df1.to_excel(\"output_new_review.xlsx\")"
   ]
  },
  {
   "cell_type": "code",
   "execution_count": 24,
   "metadata": {},
   "outputs": [
    {
     "data": {
      "text/plain": [
       "ASIN\n",
       "0      (powerful laptop with 16GB RAM with 2 video ou...\n",
       "1      (Powerfully Efficient and Lot of Memory): To s...\n",
       "2      (Nice sized screen, sturdy construction, great...\n",
       "3      (Good for everyday use): Browsing the internet...\n",
       "4      (Great for the price): I bought this computer ...\n",
       "                             ...                        \n",
       "726                                                     \n",
       "727                                                     \n",
       "728                                                     \n",
       "729                                                     \n",
       "730                                                     \n",
       "Name: B0BKGBVCZ6, Length: 731, dtype: object"
      ]
     },
     "execution_count": 24,
     "metadata": {},
     "output_type": "execute_result"
    }
   ],
   "source": [
    "review_file['B0BKGBVCZ6']"
   ]
  },
  {
   "cell_type": "code",
   "execution_count": 29,
   "metadata": {},
   "outputs": [],
   "source": [
    "need_file=pd.read_excel('new data/needs_2020_23.xlsx', index_col=0, header=0, keep_default_na=False)"
   ]
  },
  {
   "cell_type": "code",
   "execution_count": 30,
   "metadata": {},
   "outputs": [],
   "source": [
    "all_info=[]\n",
    "for i in need_file.keys():\n",
    "    for nd in need_file[i]:\n",
    "        #print(nd)\n",
    "        if(nd==''):\n",
    "            #print('empty')\n",
    "            break\n",
    "        tmp=[]\n",
    "        tmp.append(nd)\n",
    "        tmp.append(remove_unprint(label_file[i][0]))\n",
    "        tmp.append(remove_unprint(label_file[i][2]))\n",
    "        tmp.append(remove_unprint(label_file[i][3]))\n",
    "        tmp.append(remove_unprint(label_file[i][4]))\n",
    "        tmp.append(remove_unprint(label_file[i][5]))\n",
    "        all_info.append(tmp)"
   ]
  },
  {
   "cell_type": "code",
   "execution_count": 31,
   "metadata": {},
   "outputs": [],
   "source": [
    "df1 = pd.DataFrame(all_info,\n",
    "                   columns=['need', 'screen','cpu','ram','hardisk','graphicard'])\n",
    "df1.to_excel(\"output_new_need.xlsx\")"
   ]
  },
  {
   "cell_type": "code",
   "execution_count": 16,
   "metadata": {},
   "outputs": [
    {
     "name": "stdout",
     "output_type": "stream",
     "text": [
      "['2.4 GHz Intel Core i3']\n",
      "1\n",
      "['Intel HD Graphics 615', 'NVIDIA GeForce RTX 3070', 'NVIDIA GeForce GTX 1660Ti', 'NVIDIA GeForce GTX 1050', 'NVIDIA GeForce RTX 3070 Ti', 'Integrated HD Graphics', 'AMD Radeon R4', 'NVIDIA GeForce MX130', 'Intel UHD Graphics', 'NVIDIA GeForce RTX 3080', 'NVIDIA GTX 1650Ti', 'Integrated AMD Radeon RX Vega 10 Graphics', 'NVIDIA GeForce RTX 3050 Ti', 'Apple M2', 'Intel HD Graphics 500', 'Intel GMA 3150', 'Apple M1', 'AMD Radeon Vega 9', 'NVIDIA GeForce 940MX', 'AMD Radeon R5', 'NVIDIA GeForce GTX 1060', 'NVIDIA GeForce RTX 3050', 'NVIDIA GeForce MX550', 'Intel HD Graphics 620', 'Integrated Mediatek Graphics', 'AMD Radeon Vega 10', 'Intel Integrated Graphics', 'NVIDIA GeForce GTX 1650', 'Intel HD Graphics', 'NVIDIA GeForce MX150', 'Intel Arc A350M Graphics', 'AMD Radeon RX Vega 10', 'AMD Radeon Vega 8', 'Intel UHD Graphics 600', 'Intel HD Graphics 520', 'Intel HD Graphics 400', 'Intel UHD Graphics 620', 'NVIDIA GeForce GTX 1070', 'NVIDIA GeForce GTX 1660 Ti', 'Intel HD Graphics 4400', 'NVIDIA GeForce GTX 1050 Ti', 'NVIDIA GeForce RTX 3060', 'Intel Iris Xe Graphics', 'NVIDIA GeForce RTX 2070 Max-Q']\n",
      "44\n",
      "-------------------------------\n",
      "1 ---> 9 ---> ['NVIDIA GeForce RTX 3070', 'NVIDIA GeForce RTX 3070 Ti', 'NVIDIA GeForce RTX 3080', 'NVIDIA GeForce RTX 3050 Ti', 'Apple M2', 'Apple M1', 'NVIDIA GeForce RTX 3050', 'NVIDIA GeForce RTX 3060', 'NVIDIA GeForce RTX 2070 Max-Q']\n",
      "-------------------------------\n",
      "2 ---> 12 ---> ['NVIDIA GeForce GTX 1660Ti', 'NVIDIA GeForce GTX 1050', 'NVIDIA GeForce MX130', 'NVIDIA GTX 1650Ti', 'NVIDIA GeForce 940MX', 'NVIDIA GeForce GTX 1060', 'NVIDIA GeForce MX550', 'NVIDIA GeForce GTX 1650', 'NVIDIA GeForce MX150', 'NVIDIA GeForce GTX 1070', 'NVIDIA GeForce GTX 1660 Ti', 'NVIDIA GeForce GTX 1050 Ti']\n",
      "-------------------------------\n",
      "3 ---> 6 ---> ['AMD Radeon R4', 'AMD Radeon Vega 9', 'AMD Radeon R5', 'AMD Radeon Vega 10', 'AMD Radeon RX Vega 10', 'AMD Radeon Vega 8']\n",
      "-------------------------------\n",
      "4 ---> 13 ---> ['Intel HD Graphics 615', 'Intel UHD Graphics', 'Intel HD Graphics 500', 'Intel GMA 3150', 'Intel HD Graphics 620', 'Intel HD Graphics', 'Intel Arc A350M Graphics', 'Intel UHD Graphics 600', 'Intel HD Graphics 520', 'Intel HD Graphics 400', 'Intel UHD Graphics 620', 'Intel HD Graphics 4400', 'Intel Iris Xe Graphics']\n",
      "-------------------------------\n",
      "5 ---> 4 ---> ['Integrated HD Graphics', 'Integrated AMD Radeon RX Vega 10 Graphics', 'Integrated Mediatek Graphics', 'Intel Integrated Graphics']\n",
      "-------------------------------\n",
      "6 ---> 0 ---> []\n",
      "-------------------------------\n"
     ]
    }
   ],
   "source": [
    "#-------------------Graphic Card----------------------\n",
    "import re\n",
    "rank_type={1:['NVIDIA GeForce RTX 3070', 'NVIDIA GeForce RTX 3070 Ti', 'NVIDIA GeForce RTX 3080', 'NVIDIA GeForce RTX 3050 Ti', 'NVIDIA GeForce RTX 3050', 'NVIDIA GeForce RTX 3060', 'NVIDIA GeForce RTX 2070 Max-Q', 'Apple M2', 'Apple M1'],\n",
    "            2:['NVIDIA GeForce GTX 1050', 'NVIDIA GeForce GTX 1050 Ti', 'GTX 1050 Ti', 'NVIDIA GeForce GTX 1060', 'NVIDIA GeForce GTX 1070', '4GB GDDR5 NVIDIA GeForce GTX 1050', 'GTX 1050', 'NVIDIA GeForce 940MX', 'NVIDIA GeForce GTX 1660Ti', 'NVIDIA GeForce MX130', 'NVIDIA GTX 1650Ti', 'NVIDIA GeForce MX550', 'NVIDIA GeForce GTX 1650', 'NVIDIA GeForce MX150', 'NVIDIA GeForce GTX 1660 Ti'],\n",
    "           3:['AMD Radeon R2', 'AMD Radeon R4', 'radeon r5', 'AMD Radeon R5 Graphics', 'AMD Radeon R7', 'AMD Radeon Vega 9', 'AMD Radeon R5', 'AMD Radeon Vega 10', 'AMD Radeon RX Vega 10', 'AMD Radeon Vega 8'],\n",
    "           4:['Intel UHD Graphics 620', 'Intel Iris Plus Graphics 640', 'Intel HD Graphics 3000', 'Intel', 'Intel HD 620 graphics', 'Intel HD Graphics 500', 'Intel HD Graphics 520', 'Intel HD Graphics 620', 'Intel HD Graphics 400', 'Intel Celeron', 'Intel HD Graphics 505', 'Intel HD Graphics 5500', 'Intel HD Graphics', 'Intel?? HD Graphics 620 (up to 2.07 GB)', 'intel 620', 'Intel HD Graphics 615', 'Intel UHD Graphics', 'Intel HD Graphics 500', 'Intel GMA 3150', 'Intel HD Graphics 620', 'Intel HD Graphics', 'Intel Arc A350M Graphics', 'Intel UHD Graphics 600', 'Intel HD Graphics 520', 'Intel HD Graphics 400', 'Intel HD Graphics 4400', 'Intel Iris Xe Graphics'],\n",
    "           5:['Integrated', 'integrated intel hd graphics', 'integrated AMD Radeon R5 Graphics', 'Integrated Graphics', 'Integrated intel hd graphics', 'Integrated HD Graphics', 'Integrated AMD Radeon RX Vega 10 Graphics', 'Integrated Mediatek Graphics', 'Intel Integrated Graphics'], \n",
    "           6:['other']}\n",
    "remain=[]\n",
    "cover=[]\n",
    "for item in graphicard:\n",
    "    flag=0\n",
    "    for key,val in rank_type.items():\n",
    "        if(item in val):\n",
    "            flag=1\n",
    "            break\n",
    "        \"\"\"for i in val:\n",
    "            #print(val, i, item)\n",
    "            if(re.findall(i,str(item))!=[]):\n",
    "                #print(i,'/',str(item))\n",
    "                #remain.append(item)\n",
    "                flag=1\n",
    "                break\"\"\"\n",
    "    if(flag==0):\n",
    "        remain.append(item)\n",
    "    else:\n",
    "        cover.append(item)\n",
    "print(remain)\n",
    "print(len(remain))\n",
    "print(cover)\n",
    "print(len(cover))\n",
    "print('-------------------------------')\n",
    "counter={}\n",
    "for item in graphicard:\n",
    "    counter[item]=0\n",
    "for key,val in rank_type.items():\n",
    "    tmp=[]\n",
    "    for item in graphicard:\n",
    "        flag=0\n",
    "        if(item in val):\n",
    "            flag=1\n",
    "            #break\n",
    "        \"\"\"for i in val:\n",
    "            #print(val, i, item)\n",
    "            if(re.findall(i,str(item))!=[]):\n",
    "                #print(i,'/',str(item))\n",
    "                #remain.append(item)\n",
    "                flag=1\n",
    "                break\"\"\"\n",
    "        if(flag!=0):\n",
    "            counter[item]+=1\n",
    "            tmp.append(item)\n",
    "    print(key,'--->',len(tmp),'--->',tmp)\n",
    "    print('-------------------------------')\n",
    "for key,val in counter.items():\n",
    "    if(val>1):\n",
    "        print(key,': ',val)"
   ]
  },
  {
   "cell_type": "code",
   "execution_count": 17,
   "metadata": {},
   "outputs": [
    {
     "name": "stdout",
     "output_type": "stream",
     "text": [
      "100 ['1.6 GHz core_i5_family', '1.7 GHz 1_2GHz_Cortex_A8', '1.5 GHz intel_core_2_duo', '1.6 GHz core_i5', '1.83 GHz celeron', '1.6 GHz celeron', '1.8 GHz core_i7_8550u', '1.6 GHz celeron_n', '1.1 GHz 8032', '1.1 GHz intel_core_2_duo', '1.8 GHz intel_core_2_quad', '1.6 GHz Intel_Mobile_CPU', '1.1 GHz celeron', '1.6 GHz 8032', '1.8 GHz core_i7', '1.6 GHz celeron_n3060', '1.6 GHz Intel Core i5-8250U', '1 GHz core_m', '1.7 GHz core_i7', '1.6 GHz core_i5_8250u', '1.9 GHz core_i7', '1.8 GHz Intel Core i5-8250U', '1.7 GHz core_i5', '1.1 GHz celeron_n', '2.1 GHz mediatek_mt8127', '2.4 GHz apple_ci5', '2.5 GHz core_i5_family', '2.5 GHz core_i5', '2.2 GHz amd_ryzen_5_pro_1600', '2.48 GHz intel_core_2_duo', '2.9 GHz Core_i7_3520M', '2.5 GHz core_i5_1035g1', '2.3 GHz core_i5', '2.8 GHz celeron', '2.3 GHz ryzen_7', '2.5 GHz amd_a_series', '2.16 GHz celeron_n3350', '2.2 GHz core_i7', '2.8 GHz core_i7', '2.9 GHz core_i5_4300u', '2.3 GHz AMD Ryzen 7 3700U', '2.4 GHz 1_2GHz_Cortex_A8', '2.5 GHz apple_ci5', '2.4 GHz celeron', '2.7 GHz core_i7', '2.8 GHz intel_core_i7_1165g7', '2.2 GHz 8032', '2 GHz core_i5', '2.8 GHz Intel Core i7-7700HQ', '2 GHz AMD Ryzen 5 2500U', '2.6 GHz corei7_10750h', '3.9 GHz core_i7', '3.4 GHz core_i3_1005g1', '3.7 GHz intel_core_i5_1135g7', '3.5 GHz core_i7', '3.8 GHz amd_ryzen_7', '3.4 GHz core_i5', '3.4 apple_ci7', '3.6 GHz ryzen_5_2500u', '3.2 ryzen_7', '4.7 GHz ryzen_7', '4.2 GHz apple_ci5', '4.1 GHz core_i7_8750h', '4.7 GHz apple_ci7', '4.5 core_i5', '4.7 GHz amd_ryzen_7', '4.7 GHz core_i7', '4.1 GHz core_i3', '4.4 GHz amd_ryzen_7_5800h', '4.6 GHz core_i7_11800h', '4.4 GHz core_i5', '4 GHz ryzen_7_3700u', '4.5 GHz core_i7_family', '4.5 GHz intel_core_i5_1135g7', '4.1 GHz core_i7', '4.6 GHz Intel_Mobile_CPU', '4 GHz core_i7', '4.2 GHz intel_core_i5_1135g7', '4.6 GHz core_i7_family', '4.6 GHz ryzen_9', '4.7 GHz Intel_Core_i7_Extreme', '4.4 GHz ryzen_7', '4.4 GHz ryzen_7_5800h', '4.7 GHz core_i7_family', '5 GHz corei7_10750h', '5 GHz core_i7_family', '5 GHz core_i9_12900h', '8550 GHz core_i7_8550u', 'AMD A9-9420', 'Intel Core i7-7500U 2.7 GHz', 'Apple M1', 'Intel Celeron N3350', 'Intel Core i7-1260P', 'Intel i5-7200U (2.5GHz)', 'Intel Quad Core i7-7700HQ', 'Intel Core i7-8550U', 'Intel Core i5-8250U Quad Core', 'Apple M2', 'Intel Core i7-8550U 1.8GHz', 'intel_core_i7_1165g7']\n"
     ]
    }
   ],
   "source": [
    "#----------------------CPU------------------------\n",
    "cpu_list=list(cpu)\n",
    "cpu_dic={}\n",
    "for item in cpu_list:\n",
    "    #print(item)\n",
    "    if(item==8032):\n",
    "        cpu_dic[item]=101\n",
    "        continue\n",
    "    if(item[0].isdigit()):\n",
    "        cpu_dic[item]=int(item[0])\n",
    "    else:\n",
    "        cpu_dic[item]=100\n",
    "sort_cpu=sorted(cpu_dic.items(), key=lambda x:x[1])\n",
    "res=[]\n",
    "for item in sort_cpu:\n",
    "    res.append(item[0])\n",
    "print(len(res),res)"
   ]
  },
  {
   "cell_type": "code",
   "execution_count": 19,
   "metadata": {},
   "outputs": [
    {
     "name": "stdout",
     "output_type": "stream",
     "text": [
      "36 ['2 GB DDR3', '2 GB DDR4', '4 GB DDR3L', '4GB DDR4 SDRAM', '4 GB LPDDR3', '4 GB DDR3', '4 GB SDRAM', '4 GB A8', '4 GB SDRAM DDR', '4 GB DDR4', '8GB', '8 GB DDR3', '8 GB DDR4', '8 GB LPDDR4', '8 GB A8', '8 GB LPDDR3', '8 GB DDR', '8 GB DDR3 SDRAM', '8GB DDR3L', '8 GB DIMM DDR4-2400', '8 GB SDRAM', '12 GB DDR4', '16 GB DDR3L SDRAM', '16 GB DDR5', '16 GB LPDDR5', '16 GB DDR3', '16 GB LPDDR4', '16 GB LPDDR4X', '16 GB DDR4', '16 GB LPDDR3', '16 GB Lpddr 5', '20 GB DDR4', '24 GB DDR4', '32 GB DDR4', '32 GB SO-DIMM DDR4', '64 GB DDR4']\n"
     ]
    }
   ],
   "source": [
    "#----------------------RAM--------------------------\n",
    "ram_list=list(ram)\n",
    "ram_dic={}\n",
    "for item in ram_list:\n",
    "    #print(item)\n",
    "    if(item[0].isdigit()):\n",
    "        if(item[1].isdigit() or item[1]==' '):\n",
    "            ram_dic[item]=int(item[:2])\n",
    "        else:\n",
    "            ram_dic[item]=int(item[:1])\n",
    "    else:\n",
    "        ram_dic[item]=100\n",
    "sort_ram=sorted(ram_dic.items(), key=lambda x:x[1])\n",
    "res=[]\n",
    "for item in sort_ram:\n",
    "    res.append(item[0])\n",
    "#for item in res:\n",
    "#    print(item)\n",
    "print(len(res),res)"
   ]
  },
  {
   "cell_type": "code",
   "execution_count": 20,
   "metadata": {},
   "outputs": [
    {
     "name": "stdout",
     "output_type": "stream",
     "text": [
      "19 ['16 GB SSD', '32 GB Emmc', '32 GB SSD', '32 GB Embedded MultiMediaCard', '32 GB eMMC', '16 GB Emmc', '240 GB SSD', '64 GB SSD', '128 GB SSD', '256 GB SSD', '500 GB HDD', '512GB SSD', '512 GB PCIe NVMe SSD', '512 GB SSD', '2 TB HDD', '1000 GB Hybrid Drive', '1 TB HDD', '1000 GB HDD', '1 TB SSD']\n"
     ]
    }
   ],
   "source": [
    "#----------------------Disk--------------------------\n",
    "disk_list=list(hardisk)\n",
    "disk_dic={}\n",
    "for item in disk_list:\n",
    "    if('128' in item):\n",
    "        disk_dic[item]=128\n",
    "    elif('256' in item):\n",
    "        disk_dic[item]=256\n",
    "    elif('500' in item):\n",
    "        disk_dic[item]=500\n",
    "    elif('512' in item):\n",
    "        disk_dic[item]=512\n",
    "    elif('1 TB' in item or '1000' in item or '1024' in item or '2 TB' in item):\n",
    "        disk_dic[item]=1000\n",
    "    else:\n",
    "        disk_dic[item]=0\n",
    "sort_disk=sorted(disk_dic.items(), key=lambda x:x[1])\n",
    "res=[]\n",
    "for item in sort_disk:\n",
    "    res.append(item[0])\n",
    "#print(sort_disk)\n",
    "#for item in res:\n",
    "#    print(item)\n",
    "print(len(res),res)"
   ]
  },
  {
   "cell_type": "code",
   "execution_count": null,
   "metadata": {},
   "outputs": [],
   "source": []
  }
 ],
 "metadata": {
  "kernelspec": {
   "display_name": "Python [conda env:root] *",
   "language": "python",
   "name": "conda-root-py"
  },
  "language_info": {
   "codemirror_mode": {
    "name": "ipython",
    "version": 3
   },
   "file_extension": ".py",
   "mimetype": "text/x-python",
   "name": "python",
   "nbconvert_exporter": "python",
   "pygments_lexer": "ipython3",
   "version": "3.8.5"
  }
 },
 "nbformat": 4,
 "nbformat_minor": 4
}
