{
 "cells": [
  {
   "cell_type": "code",
   "execution_count": 4,
   "metadata": {},
   "outputs": [],
   "source": [
    "import torch\n",
    "from torch.utils.data import random_split\n",
    "import csv"
   ]
  },
  {
   "cell_type": "code",
   "execution_count": 9,
   "metadata": {},
   "outputs": [],
   "source": [
    "def read_train_data_csv(file,ratio):\n",
    "    record=[]\n",
    "    with open(file,newline='') as csvfile:\n",
    "        read=csv.reader(csvfile)\n",
    "        for item in read:\n",
    "            record.append(item[1:])\n",
    "    record=record[1:]\n",
    "    for ind,sample in enumerate(record):\n",
    "        sample.insert(0,ind)\n",
    "        sample[2]=int(sample[2])#cpu\n",
    "        sample[3]=int(sample[3])#graphic\n",
    "        sample[4]=int(sample[4])#hardisk\n",
    "        sample[5]=int(sample[5])#ram\n",
    "        sample[6]=int(sample[6])#screen\n",
    "    \n",
    "    model1_train_set, model2_train_set, model3_train_set=random_split(record,\n",
    "                 ratio,\n",
    "                 generator=torch.Generator().manual_seed(42))\n",
    "    \n",
    "    dataset={}\n",
    "    \"\"\"model1_dataset=[]\n",
    "    model2_dataset=[]\n",
    "    model3_dataset=[]\n",
    "    for item in model1_train_set:\n",
    "        model1_dataset.append(InputExample(guid=item[0],text_a=item[1],label=item[2:]))\n",
    "    for item in model2_train_set:\n",
    "        model2_dataset.append(InputExample(guid=item[0],text_a=item[1],label=item[2:]))\n",
    "    for item in model3_train_set:\n",
    "        model3_dataset.append(InputExample(guid=item[0],text_a=item[1],label=item[2:]))\"\"\"\n",
    "    \n",
    "    dataset['model1']=model1_train_set\n",
    "    dataset['model2']=model2_train_set\n",
    "    dataset['model3']=model3_train_set\n",
    "    \n",
    "    return dataset"
   ]
  },
  {
   "cell_type": "code",
   "execution_count": 10,
   "metadata": {},
   "outputs": [],
   "source": [
    "dataset=read_train_data_csv(\"old_mapped_data/review_all_map.csv\",[2409, 2409, 2409])\n"
   ]
  },
  {
   "cell_type": "code",
   "execution_count": 15,
   "metadata": {},
   "outputs": [
    {
     "name": "stdout",
     "output_type": "stream",
     "text": [
      "2409\n"
     ]
    }
   ],
   "source": [
    "print(len(dataset['model3']))"
   ]
  },
  {
   "cell_type": "code",
   "execution_count": 20,
   "metadata": {},
   "outputs": [],
   "source": [
    "write_data=[]\n",
    "number='3'\n",
    "for i in range(len(dataset['model'+number])):\n",
    "    ind=i\n",
    "    rev=dataset['model'+number][i][1]\n",
    "    c_label=dataset['model'+number][i][2]\n",
    "    gra_label=dataset['model'+number][i][3]\n",
    "    hard_label=dataset['model'+number][i][4]\n",
    "    r_label=dataset['model'+number][i][5]\n",
    "    scre_label=dataset['model'+number][i][6]\n",
    "    \n",
    "    tmp={'index':ind, 'review':rev, 'cpu':c_label, 'graphicard':gra_label, 'hardisk':hard_label, 'ram':r_label, 'screen':scre_label}\n",
    "    \n",
    "    write_data.append(tmp)\n",
    "\n",
    "\n",
    "with open('model3_all_map.csv', 'w', newline='') as csvfile:\n",
    "    fieldnames = ['index', 'review', 'cpu', 'graphicard', \"hardisk\", 'ram', 'screen']\n",
    "    #fieldnames = ['index', 'need', 'cpu', 'graphicard', \"hardisk\", 'ram', 'screen']\n",
    "    writer = csv.DictWriter(csvfile, fieldnames=fieldnames)\n",
    "\n",
    "    writer.writeheader()\n",
    "    writer.writerows(write_data)"
   ]
  },
  {
   "cell_type": "code",
   "execution_count": null,
   "metadata": {},
   "outputs": [],
   "source": []
  },
  {
   "cell_type": "code",
   "execution_count": 30,
   "metadata": {},
   "outputs": [],
   "source": [
    "def read_need_data_csv(file, ratio):\n",
    "    record=[]\n",
    "    with open(file,newline='') as csvfile:\n",
    "        read=csv.reader(csvfile)\n",
    "        for item in read:\n",
    "            record.append(item[1:])\n",
    "    record=record[1:]\n",
    "    for ind,sample in enumerate(record):\n",
    "        sample.insert(0,ind)\n",
    "        sample[2]=int(sample[2])#cpu\n",
    "        sample[3]=int(sample[3])#graphic\n",
    "        sample[4]=int(sample[4])#hardisk\n",
    "        sample[5]=int(sample[5])#ram\n",
    "        sample[6]=int(sample[6])#screen\n",
    "    \n",
    "    model1_train_set, model2_train_set, model3_train_set, test_set=random_split(record,\n",
    "                 ratio,\n",
    "                 generator=torch.Generator().manual_seed(42))\n",
    "    \n",
    "    dataset={}\n",
    "    \n",
    "    dataset['model1']=model1_train_set\n",
    "    dataset['model2']=model2_train_set\n",
    "    dataset['model3']=model3_train_set\n",
    "    \n",
    "    dataset['model4']=test_set\n",
    "    \n",
    "    return dataset"
   ]
  },
  {
   "cell_type": "code",
   "execution_count": 31,
   "metadata": {},
   "outputs": [],
   "source": [
    "dataset=read_need_data_csv(\"old_mapped_data/need_all_map.csv\",[267, 267, 267, 269])"
   ]
  },
  {
   "cell_type": "code",
   "execution_count": 36,
   "metadata": {},
   "outputs": [
    {
     "name": "stdout",
     "output_type": "stream",
     "text": [
      "269\n"
     ]
    }
   ],
   "source": [
    "print(len(dataset['model4']))"
   ]
  },
  {
   "cell_type": "code",
   "execution_count": 40,
   "metadata": {},
   "outputs": [],
   "source": [
    "write_data=[]\n",
    "number='4'\n",
    "for i in range(len(dataset['model'+number])):\n",
    "    ind=i\n",
    "    rev=dataset['model'+number][i][1]\n",
    "    c_label=dataset['model'+number][i][2]\n",
    "    gra_label=dataset['model'+number][i][3]\n",
    "    hard_label=dataset['model'+number][i][4]\n",
    "    r_label=dataset['model'+number][i][5]\n",
    "    scre_label=dataset['model'+number][i][6]\n",
    "    \n",
    "    tmp={'index':ind, 'need':rev, 'cpu':c_label, 'graphicard':gra_label, 'hardisk':hard_label, 'ram':r_label, 'screen':scre_label}\n",
    "    \n",
    "    write_data.append(tmp)\n",
    "\n",
    "\n",
    "with open('test_need_all_map.csv', 'w', newline='') as csvfile:\n",
    "    #fieldnames = ['index', 'review', 'cpu', 'graphicard', \"hardisk\", 'ram', 'screen']\n",
    "    fieldnames = ['index', 'need', 'cpu', 'graphicard', \"hardisk\", 'ram', 'screen']\n",
    "    writer = csv.DictWriter(csvfile, fieldnames=fieldnames)\n",
    "\n",
    "    writer.writeheader()\n",
    "    writer.writerows(write_data)"
   ]
  },
  {
   "cell_type": "code",
   "execution_count": null,
   "metadata": {},
   "outputs": [],
   "source": []
  }
 ],
 "metadata": {
  "kernelspec": {
   "display_name": "Python [conda env:root] *",
   "language": "python",
   "name": "conda-root-py"
  },
  "language_info": {
   "codemirror_mode": {
    "name": "ipython",
    "version": 3
   },
   "file_extension": ".py",
   "mimetype": "text/x-python",
   "name": "python",
   "nbconvert_exporter": "python",
   "pygments_lexer": "ipython3",
   "version": "3.8.5"
  }
 },
 "nbformat": 4,
 "nbformat_minor": 4
}
