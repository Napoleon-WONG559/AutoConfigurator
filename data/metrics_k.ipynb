{
 "cells": [
  {
   "cell_type": "code",
   "execution_count": 2,
   "metadata": {},
   "outputs": [],
   "source": [
    "import csv\n",
    "import ast"
   ]
  },
  {
   "cell_type": "code",
   "execution_count": 4,
   "metadata": {},
   "outputs": [
    {
     "ename": "NameError",
     "evalue": "name 'logit' is not defined",
     "output_type": "error",
     "traceback": [
      "\u001b[0;31m---------------------------------------------------------------------------\u001b[0m",
      "\u001b[0;31mNameError\u001b[0m                                 Traceback (most recent call last)",
      "\u001b[0;32m<ipython-input-4-dc4d47fcbb93>\u001b[0m in \u001b[0;36m<module>\u001b[0;34m\u001b[0m\n\u001b[1;32m     26\u001b[0m         \u001b[0mtmp\u001b[0m\u001b[0;34m[\u001b[0m\u001b[0;36m3\u001b[0m\u001b[0;34m]\u001b[0m\u001b[0;34m=\u001b[0m\u001b[0mast\u001b[0m\u001b[0;34m.\u001b[0m\u001b[0mliteral_eval\u001b[0m\u001b[0;34m(\u001b[0m\u001b[0mtmp\u001b[0m\u001b[0;34m[\u001b[0m\u001b[0;36m3\u001b[0m\u001b[0;34m]\u001b[0m\u001b[0;34m)\u001b[0m\u001b[0;34m\u001b[0m\u001b[0;34m\u001b[0m\u001b[0m\n\u001b[1;32m     27\u001b[0m \u001b[0;34m\u001b[0m\u001b[0m\n\u001b[0;32m---> 28\u001b[0;31m         \u001b[0mtmp\u001b[0m\u001b[0;34m[\u001b[0m\u001b[0;36m3\u001b[0m\u001b[0;34m]\u001b[0m\u001b[0;34m=\u001b[0m\u001b[0mlogit\u001b[0m\u001b[0;34m\u001b[0m\u001b[0;34m\u001b[0m\u001b[0m\n\u001b[0m\u001b[1;32m     29\u001b[0m         \u001b[0mrecord\u001b[0m\u001b[0;34m.\u001b[0m\u001b[0mappend\u001b[0m\u001b[0;34m(\u001b[0m\u001b[0mtmp\u001b[0m\u001b[0;34m)\u001b[0m\u001b[0;34m\u001b[0m\u001b[0;34m\u001b[0m\u001b[0m\n\u001b[1;32m     30\u001b[0m \u001b[0;34m\u001b[0m\u001b[0m\n",
      "\u001b[0;31mNameError\u001b[0m: name 'logit' is not defined"
     ]
    }
   ],
   "source": [
    "record=[]\n",
    "count=0\n",
    "with open(\"new test result/baselineBERT/cpu/baselinebert_cpu_epoch_5_test_res.csv\",newline='') as csvfile:\n",
    "    read=csv.reader(csvfile)\n",
    "    for item in read:\n",
    "        if(count==0):\n",
    "            count+=1\n",
    "            continue\n",
    "        #tmp=item[:]\n",
    "        tmp=item[:1]+item[1:]\n",
    "        tmp[0]=int(tmp[0])\n",
    "        tmp[1]=int(tmp[1])\n",
    "        tmp[2]=int(tmp[2])\n",
    "        \n",
    "        #numpy version\n",
    "        \"\"\"tmp[3]=tmp[3][1:-1].split(' ')\n",
    "        #print(tmp[3])\n",
    "        n=len(tmp[3])\n",
    "        logit=[]\n",
    "        for i in range(n):\n",
    "            if(tmp[3][i]==''):\n",
    "                continue\n",
    "            logit.append(float(tmp[3][i]))\"\"\"\n",
    "        \n",
    "        #normal version\n",
    "        tmp[3]=ast.literal_eval(tmp[3])\n",
    "        \n",
    "        \"\"\"tmp[3]=logit\"\"\"\n",
    "        record.append(tmp)\n",
    "\n",
    "print(record[0])\n",
    "print(len(record))"
   ]
  },
  {
   "cell_type": "code",
   "execution_count": 370,
   "metadata": {},
   "outputs": [],
   "source": [
    "#--------------------------recall rate-------------------------------\n",
    "\n",
    "n=len(record)\n",
    "cls_num=len(record[0][3])#class number used to define range of k\n",
    "deno=[0 for i in range(cls_num)]#number of samples of each class\n",
    "nume=[[0 for j in range(cls_num)] for i in range(cls_num)]#external range is for each class, internal range is for @k\n",
    "#e.g. nume[i][j] is the numerator for calculating class i's @j recall rate\n",
    "\n",
    "for i in range(0,n):\n",
    "    label_i=record[i][1]\n",
    "    \n",
    "    #create a list containing tuples in form of (logit, index)\n",
    "    ind_len=len(record[i][3])\n",
    "    logit_index_list=zip(record[i][3], range(0,ind_len))\n",
    "    logit_index_list=list(logit_index_list)\n",
    "    logit_index_list=sorted(logit_index_list, key=lambda x : x[0], reverse=True)\n",
    "    #logit_index_list=logit_index_list.map(lambda x:x[1])\n",
    "    \n",
    "    #turn the list above to a index list\n",
    "    index_list=[]\n",
    "    for item in logit_index_list:\n",
    "        index_list.append(item[1])\n",
    "    #print(logit_index_list)\n",
    "    #print(index_list, record[i][1])\n",
    "    #break\n",
    "    \n",
    "    #record info for calculating the @k recall rate\n",
    "    deno[label_i]+=1\n",
    "    for j in range(cls_num):\n",
    "        #(j+1) is k\n",
    "        if(label_i in index_list[:j+1]):\n",
    "            nume[label_i][j]+=1\n",
    "\n",
    "recall_rate_k=[0 for i in range(cls_num)]\n",
    "#calculate the @k recall rate\n",
    "for i in range(cls_num):\n",
    "    #(i+1) is k\n",
    "    tmp=cls_num\n",
    "    for j in range(cls_num):\n",
    "        #j is class\n",
    "        if(deno[j]==0):\n",
    "            tmp-=1\n",
    "            continue\n",
    "        recall_rate_k[i]+=((nume[j][i]/deno[j])*(deno[j]/sum(deno)))\n",
    "        #recall_rate_k[i]+=(nume[j][i]/deno[j])\n",
    "    #recall_rate_k[i]/=tmp"
   ]
  },
  {
   "cell_type": "code",
   "execution_count": 371,
   "metadata": {},
   "outputs": [
    {
     "name": "stdout",
     "output_type": "stream",
     "text": [
      "[0.394392523364486, 0.611214953271028, 0.9682242990654205, 1.0]\n"
     ]
    }
   ],
   "source": [
    "print(recall_rate_k)"
   ]
  },
  {
   "cell_type": "code",
   "execution_count": 372,
   "metadata": {},
   "outputs": [
    {
     "name": "stdout",
     "output_type": "stream",
     "text": [
      "0.394392523364486\n",
      "0.611214953271028\n",
      "0.9682242990654205\n",
      "1.0\n"
     ]
    }
   ],
   "source": [
    "#print(recall_rate_k)\n",
    "for item in recall_rate_k:\n",
    "    print(item)"
   ]
  },
  {
   "cell_type": "code",
   "execution_count": 373,
   "metadata": {},
   "outputs": [
    {
     "data": {
      "text/plain": [
       "'for i in range(cls_num):\\n    print(nume[i])\\n    print(deno[i])'"
      ]
     },
     "execution_count": 373,
     "metadata": {},
     "output_type": "execute_result"
    }
   ],
   "source": [
    "\"\"\"for i in range(cls_num):\n",
    "    print(nume[i])\n",
    "    print(deno[i])\"\"\""
   ]
  },
  {
   "cell_type": "code",
   "execution_count": 374,
   "metadata": {},
   "outputs": [],
   "source": [
    "#--------------------------precision rate-------------------------------\n",
    "\n",
    "n=len(record)\n",
    "cls_num=len(record[0][3])#class number used to define range of k\n",
    "deno=[0 for i in range(cls_num)]#number of samples of each class\n",
    "nume=[[0 for j in range(cls_num)] for i in range(cls_num)]#external range is for each class, internal range is for @k\n",
    "#e.g. nume[i][j] is the numerator for calculating class i's @j recall rate\n",
    "\n",
    "for i in range(0,n):\n",
    "    label_i=record[i][1]\n",
    "    \n",
    "    #create a list containing tuples in form of (logit, index)\n",
    "    ind_len=len(record[i][3])\n",
    "    logit_index_list=zip(record[i][3], range(0,ind_len))\n",
    "    logit_index_list=list(logit_index_list)\n",
    "    logit_index_list=sorted(logit_index_list, key=lambda x : x[0], reverse=True)\n",
    "    #logit_index_list=logit_index_list.map(lambda x:x[1])\n",
    "    \n",
    "    #turn the list above to a index list\n",
    "    index_list=[]\n",
    "    for item in logit_index_list:\n",
    "        index_list.append(item[1])\n",
    "    #print(logit_index_list)\n",
    "    #print(index_list, record[i][1])\n",
    "    #break\n",
    "    \n",
    "    #record info for calculating the @k recall rate\n",
    "    deno[label_i]+=1\n",
    "    for j in range(cls_num):\n",
    "        #(j+1) is k\n",
    "        if(label_i in index_list[:j+1]):\n",
    "            nume[label_i][j]+=1\n",
    "\n",
    "precision_rate_k=[0 for i in range(cls_num)]\n",
    "#calculate the @k recall rate\n",
    "for i in range(cls_num):\n",
    "    #(i+1) is k\n",
    "    tmp=cls_num\n",
    "    for j in range(cls_num):\n",
    "        #j is class\n",
    "        if(deno[j]==0):\n",
    "            tmp-=1\n",
    "            continue\n",
    "        precision_rate_k[i]+=((nume[j][i]/((i+1)*deno[j]))*(deno[j]/sum(deno)))"
   ]
  },
  {
   "cell_type": "code",
   "execution_count": 375,
   "metadata": {},
   "outputs": [
    {
     "name": "stdout",
     "output_type": "stream",
     "text": [
      "0.394392523364486\n",
      "0.305607476635514\n",
      "0.32274143302180686\n",
      "0.25\n"
     ]
    }
   ],
   "source": [
    "#print(precision_rate_k)\n",
    "for item in precision_rate_k:\n",
    "    print(item)"
   ]
  },
  {
   "cell_type": "code",
   "execution_count": 376,
   "metadata": {},
   "outputs": [],
   "source": [
    "f1_score_k=[]\n",
    "for i in range(len(recall_rate_k)):\n",
    "    tmp=2*(recall_rate_k[i]*precision_rate_k[i])/(recall_rate_k[i]+precision_rate_k[i])\n",
    "    f1_score_k.append(tmp)"
   ]
  },
  {
   "cell_type": "code",
   "execution_count": 377,
   "metadata": {
    "scrolled": false
   },
   "outputs": [
    {
     "name": "stdout",
     "output_type": "stream",
     "text": [
      "0.39439252336448605\n",
      "0.4074766355140187\n",
      "0.4841121495327102\n",
      "0.4\n"
     ]
    }
   ],
   "source": [
    "#print(f1_score_k)\n",
    "for item in f1_score_k:\n",
    "    print(item)"
   ]
  },
  {
   "cell_type": "code",
   "execution_count": 237,
   "metadata": {},
   "outputs": [
    {
     "data": {
      "text/plain": [
       "'x=2*(0.9626168224299065*0.3208722741433022)/(0.9626168224299065+0.3208722741433022)\\nprint(x)'"
      ]
     },
     "execution_count": 237,
     "metadata": {},
     "output_type": "execute_result"
    }
   ],
   "source": [
    "\"\"\"x=2*(0.9626168224299065*0.3208722741433022)/(0.9626168224299065+0.3208722741433022)\n",
    "print(x)\"\"\""
   ]
  },
  {
   "cell_type": "code",
   "execution_count": null,
   "metadata": {},
   "outputs": [],
   "source": []
  },
  {
   "cell_type": "code",
   "execution_count": null,
   "metadata": {},
   "outputs": [],
   "source": []
  }
 ],
 "metadata": {
  "kernelspec": {
   "display_name": "Python [conda env:root] *",
   "language": "python",
   "name": "conda-root-py"
  },
  "language_info": {
   "codemirror_mode": {
    "name": "ipython",
    "version": 3
   },
   "file_extension": ".py",
   "mimetype": "text/x-python",
   "name": "python",
   "nbconvert_exporter": "python",
   "pygments_lexer": "ipython3",
   "version": "3.8.5"
  }
 },
 "nbformat": 4,
 "nbformat_minor": 4
}
