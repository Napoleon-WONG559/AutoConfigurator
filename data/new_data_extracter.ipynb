{
 "cells": [
  {
   "cell_type": "code",
   "execution_count": 1,
   "metadata": {},
   "outputs": [],
   "source": [
    "import pandas as pd"
   ]
  },
  {
   "cell_type": "code",
   "execution_count": 6,
   "metadata": {},
   "outputs": [],
   "source": [
    "file_object=pd.ExcelFile('new data/Reviews_Processed.xlsx')"
   ]
  },
  {
   "cell_type": "code",
   "execution_count": 11,
   "metadata": {},
   "outputs": [
    {
     "name": "stdout",
     "output_type": "stream",
     "text": [
      "81\n",
      "['B09R5VYRVN', 'B09TWYSVPM', 'B09X2B5TYJ', 'B07D1H521Q', 'B07HBKMLLN', 'B07HBPBRRF', 'B0BKGBVCZ6', 'B0B7QZSFS3', 'B09FDG7M6N', 'B089671Y87', 'B09W8PP5NY', 'B09KNSMR14', 'B09WWSSW3M', 'B0B7TW99SG', 'B09WL5Z1RW', 'B07SH7JDJL', 'B09RMPV211', 'B09XT2KZRG', 'B08KH4BND6', 'B09RMTNY28', 'B0BP26MR67', 'B0BHW3HJB1', 'B09TBJWHW1', 'B08RRX57CM', 'B07G2XB2MB', 'B07H6KXFC7', 'B093TMFFC3', 'B07WLTLDKN', 'B09SVQY3PF', 'B07L4H82TS', 'B0811RMQ1B', 'B09XGW4ZT5', 'B09YMVBGGG', 'B09V3HRP8X', 'B09YBQYJLS', 'B09Y184GBG', 'B077NF6NG4', 'B077ZNHL5N', 'B07K4QJGSC', 'B07DX8KFTJ', 'B07D3F4P4D', 'B07H6HGK9C', 'B079J4H1P2', 'B07QVM5X8W', 'B07C6L29KV', 'B07F32YFDL', 'B07K9Y9NZV', 'B07B9T76HD', 'B07GD1RKJK', 'B01EMES6QY', 'B079J3NWYZ', 'B07FHB7VXV', 'B079J395DC', 'B07BJMBD13', 'B0799981GR', 'B07GZKCTVB', 'B07F2N9B59', 'B09D8SGXB6', 'B0795YYW1B', 'B07MW2CHJ1', 'B09D8RX28J', 'B09XGPB83Y', 'B09VQ3JWZ5', 'B0B5HSX14V', 'B09MMX24B8', 'B077LH63ZK', 'B07J427KVK', 'B07H9XP9Q1', 'B077SZFX3S', 'B07FKHYHCQ', 'B07J26L99L', 'B07FXPMM2Q', 'B07B11G31Y', 'B07K1STZHB', 'B078FNHP5D', 'B07DWT4D3G', 'B079W6PFBT', 'B07D39S85K', 'B09KZV8NY1', 'B09R94XYBS', 'B07BQJWZ6G']\n"
     ]
    }
   ],
   "source": [
    "print(len(file_object.sheet_names))\n",
    "print(file_object.sheet_names)"
   ]
  },
  {
   "cell_type": "code",
   "execution_count": 2,
   "metadata": {},
   "outputs": [],
   "source": [
    "need_file=pd.read_excel('new data/Reviews_Processed.xlsx', index_col=None, header=0)"
   ]
  },
  {
   "cell_type": "code",
   "execution_count": 4,
   "metadata": {},
   "outputs": [
    {
     "name": "stdout",
     "output_type": "stream",
     "text": [
      "Index(['Review', 'Product Relevant Keywords (Positive)',\n",
      "       'Product Relevant Keywords (Negative)',\n",
      "       'Rephrased Customer Needs Based on Positive Keywords and Reviews'],\n",
      "      dtype='object')\n"
     ]
    }
   ],
   "source": [
    "print(need_file.keys())"
   ]
  },
  {
   "cell_type": "code",
   "execution_count": 59,
   "metadata": {},
   "outputs": [],
   "source": [
    "need_list=[]\n",
    "item_list=[]\n",
    "count=0\n",
    "\n",
    "for item in file_object.sheet_names:\n",
    "    need_file_item=pd.read_excel('new data/Reviews_Processed.xlsx', sheet_name=item, index_col=None, header=0, keep_default_na=False)\n",
    "    tmp_need_item=[]\n",
    "    \n",
    "    #traverse review until empty\n",
    "    ind_review=0\n",
    "    num_review=len(need_file_item['Review'])\n",
    "    while(ind_review<num_review):\n",
    "        if(need_file_item['Rephrased Customer Needs Based on Positive Keywords and Reviews'][ind_review]!=''):\n",
    "            tmp_need_item.append(need_file_item['Rephrased Customer Needs Based on Positive Keywords and Reviews'][ind_review])\n",
    "        ind_review+=1\n",
    "    \n",
    "    need_list.append(tmp_need_item)\n",
    "    item_list.append(item)\n",
    "    \n",
    "    count+=1\n",
    "    if(count==2):\n",
    "        break\n",
    "\n",
    "        \n",
    "df1 = pd.DataFrame(need_list, index=item_list).transpose()\n",
    "#df1 = pd.DataFrame(need_list, index=item_list)\n",
    "\n",
    "\n",
    "#df1.to_excel(\"hjh_test_output.xlsx\")  "
   ]
  },
  {
   "cell_type": "code",
   "execution_count": 43,
   "metadata": {},
   "outputs": [
    {
     "name": "stdout",
     "output_type": "stream",
     "text": [
      "dict_keys(['B09R5VYRVN', 'B09TWYSVPM'])\n"
     ]
    }
   ],
   "source": [
    "print(new_dic.keys())"
   ]
  },
  {
   "cell_type": "code",
   "execution_count": 46,
   "metadata": {},
   "outputs": [
    {
     "name": "stdout",
     "output_type": "stream",
     "text": [
      "197\n"
     ]
    }
   ],
   "source": [
    "print(len(new_dic['B09TWYSVPM']))"
   ]
  },
  {
   "cell_type": "code",
   "execution_count": 61,
   "metadata": {},
   "outputs": [
    {
     "name": "stdout",
     "output_type": "stream",
     "text": [
      "                                            B09R5VYRVN  \\\n",
      "0    I wanted a solid, easy to use laptop with a ni...   \n",
      "1    I need a computer that is fast, lightweight an...   \n",
      "2    I am looking for a light and durable laptop fo...   \n",
      "3    I wanted a laptop with an elegant design and d...   \n",
      "4    I am searching for a lightweight laptop with g...   \n",
      "..                                                 ...   \n",
      "192                                               None   \n",
      "193                                               None   \n",
      "194                                               None   \n",
      "195                                               None   \n",
      "196                                               None   \n",
      "\n",
      "                                            B09TWYSVPM  \n",
      "0    I want a laptop with multiple ports and a good...  \n",
      "1    I am looking for a computer for gaming that ha...  \n",
      "2    I need a laptop that runs smoothly and has a l...  \n",
      "3    I was searching for a laptop that was perfect ...  \n",
      "4           I wish I had a super fast gaming computer.  \n",
      "..                                                 ...  \n",
      "192  I need a fast laptop with a good cooling syste...  \n",
      "193              I would like to have a fast computer.  \n",
      "194             I want a computer with a nice screen.   \n",
      "195               I want a durable computer for work.   \n",
      "196       I need a computer that run smooth in games.   \n",
      "\n",
      "[197 rows x 2 columns]\n"
     ]
    }
   ],
   "source": [
    "print(df1)"
   ]
  },
  {
   "cell_type": "code",
   "execution_count": 60,
   "metadata": {},
   "outputs": [
    {
     "name": "stdout",
     "output_type": "stream",
     "text": [
      "197\n"
     ]
    }
   ],
   "source": [
    "print(len(need_list[1]))"
   ]
  },
  {
   "cell_type": "code",
   "execution_count": null,
   "metadata": {},
   "outputs": [],
   "source": []
  }
 ],
 "metadata": {
  "kernelspec": {
   "display_name": "Python [conda env:root] *",
   "language": "python",
   "name": "conda-root-py"
  },
  "language_info": {
   "codemirror_mode": {
    "name": "ipython",
    "version": 3
   },
   "file_extension": ".py",
   "mimetype": "text/x-python",
   "name": "python",
   "nbconvert_exporter": "python",
   "pygments_lexer": "ipython3",
   "version": "3.8.5"
  }
 },
 "nbformat": 4,
 "nbformat_minor": 4
}
